{
 "cells": [
  {
   "cell_type": "code",
   "execution_count": 1,
   "id": "230b5f6e",
   "metadata": {},
   "outputs": [],
   "source": [
    "import sqlite3\n",
    "import re\n",
    "\n",
    "import pandas as pd"
   ]
  },
  {
   "cell_type": "code",
   "execution_count": 2,
   "id": "bca93f7f",
   "metadata": {},
   "outputs": [],
   "source": [
    "def load_log(path_to_log):\n",
    "    ans = list()\n",
    "    matcher = re.compile(r'^Written:\\s(.+)$')\n",
    "    with open(path_to_log) as infile:\n",
    "        for line in infile:\n",
    "            if (matched := matcher.match(line)) is not None:\n",
    "                ans.append(matched.groups()[0])\n",
    "    return pd.Series(ans)\n",
    "\n",
    "\n",
    "def load_db(path_to_db):\n",
    "    with sqlite3.connect(path_to_db) as db:\n",
    "        cursor = (db\n",
    "                  .cursor()\n",
    "                  .execute('SELECT an, ingestion_datetime FROM received_articles'))\n",
    "        columns = [t[0] for t in cursor.description]\n",
    "        data = cursor.fetchall()\n",
    "    return pd.DataFrame(data, columns=columns)"
   ]
  },
  {
   "cell_type": "markdown",
   "id": "32eb73ed",
   "metadata": {},
   "source": [
    "# NodeJS"
   ]
  },
  {
   "cell_type": "code",
   "execution_count": 6,
   "id": "9e9cc582",
   "metadata": {},
   "outputs": [
    {
     "data": {
      "text/plain": [
       "0        PRNDIS0020241126ekbq005eh\n",
       "1        DJDN000020241126ekbq002jb\n",
       "2        DJDN000020241126ekbq002kv\n",
       "3        AFNWS00020241126ekbq001gu\n",
       "4        NWMONI0020241126ekbq00tv1\n",
       "                   ...            \n",
       "44663    ASANEW0020241126ekbr000rt\n",
       "44664    JALOPNK020241126ekbq000b6\n",
       "44665    JALOPNK020241126ekbq000b8\n",
       "44666    ASANEW0020241126ekbr000rt\n",
       "44667    JALOPNK020241126ekbq000b5\n",
       "Length: 44668, dtype: object"
      ]
     },
     "metadata": {},
     "output_type": "display_data"
    },
    {
     "data": {
      "text/plain": [
       "0        PRESSA0020241126ekbq0050l\n",
       "1        NWMONI0020241126ekbq00tv1\n",
       "2        AFNWS00020241126ekbq001gt\n",
       "3        AFNWS00020241126ekbq001gw\n",
       "4        AFNWS00020241126ekbq001gu\n",
       "                   ...            \n",
       "44656    ASANEW0020241126ekbr000rt\n",
       "44657    JALOPNK020241126ekbq000b5\n",
       "44658    JALOPNK020241126ekbq000b7\n",
       "44659    NMNR000020241126ekbq0008d\n",
       "44660    NMNR000020241126ekbq0008e\n",
       "Length: 44661, dtype: object"
      ]
     },
     "metadata": {},
     "output_type": "display_data"
    },
    {
     "data": {
      "text/html": [
       "<div>\n",
       "<style scoped>\n",
       "    .dataframe tbody tr th:only-of-type {\n",
       "        vertical-align: middle;\n",
       "    }\n",
       "\n",
       "    .dataframe tbody tr th {\n",
       "        vertical-align: top;\n",
       "    }\n",
       "\n",
       "    .dataframe thead th {\n",
       "        text-align: right;\n",
       "    }\n",
       "</style>\n",
       "<table border=\"1\" class=\"dataframe\">\n",
       "  <thead>\n",
       "    <tr style=\"text-align: right;\">\n",
       "      <th></th>\n",
       "      <th>an</th>\n",
       "      <th>ingestion_datetime</th>\n",
       "    </tr>\n",
       "  </thead>\n",
       "  <tbody>\n",
       "    <tr>\n",
       "      <th>0</th>\n",
       "      <td>PRNDIS0020241126ekbq005eh</td>\n",
       "      <td>2024-11-26T17:27:52.000Z</td>\n",
       "    </tr>\n",
       "    <tr>\n",
       "      <th>1</th>\n",
       "      <td>DJDN000020241126ekbq002jb</td>\n",
       "      <td>2024-11-26T17:27:53.000Z</td>\n",
       "    </tr>\n",
       "    <tr>\n",
       "      <th>2</th>\n",
       "      <td>DJDN000020241126ekbq002kv</td>\n",
       "      <td>2024-11-26T17:27:52.000Z</td>\n",
       "    </tr>\n",
       "    <tr>\n",
       "      <th>3</th>\n",
       "      <td>AFNWS00020241126ekbq001gu</td>\n",
       "      <td>2024-11-26T17:30:15.000Z</td>\n",
       "    </tr>\n",
       "    <tr>\n",
       "      <th>4</th>\n",
       "      <td>NWMONI0020241126ekbq00tv1</td>\n",
       "      <td>2024-11-26T17:30:14.000Z</td>\n",
       "    </tr>\n",
       "    <tr>\n",
       "      <th>...</th>\n",
       "      <td>...</td>\n",
       "      <td>...</td>\n",
       "    </tr>\n",
       "    <tr>\n",
       "      <th>44663</th>\n",
       "      <td>ASANEW0020241126ekbr000rt</td>\n",
       "      <td>2024-11-26T22:30:17.000Z</td>\n",
       "    </tr>\n",
       "    <tr>\n",
       "      <th>44664</th>\n",
       "      <td>JALOPNK020241126ekbq000b6</td>\n",
       "      <td>2024-11-26T22:30:18.000Z</td>\n",
       "    </tr>\n",
       "    <tr>\n",
       "      <th>44665</th>\n",
       "      <td>JALOPNK020241126ekbq000b8</td>\n",
       "      <td>2024-11-26T22:30:18.000Z</td>\n",
       "    </tr>\n",
       "    <tr>\n",
       "      <th>44666</th>\n",
       "      <td>ASANEW0020241126ekbr000rt</td>\n",
       "      <td>2024-11-26T22:30:17.000Z</td>\n",
       "    </tr>\n",
       "    <tr>\n",
       "      <th>44667</th>\n",
       "      <td>JALOPNK020241126ekbq000b5</td>\n",
       "      <td>2024-11-26T22:30:18.000Z</td>\n",
       "    </tr>\n",
       "  </tbody>\n",
       "</table>\n",
       "<p>44668 rows × 2 columns</p>\n",
       "</div>"
      ],
      "text/plain": [
       "                              an        ingestion_datetime\n",
       "0      PRNDIS0020241126ekbq005eh  2024-11-26T17:27:52.000Z\n",
       "1      DJDN000020241126ekbq002jb  2024-11-26T17:27:53.000Z\n",
       "2      DJDN000020241126ekbq002kv  2024-11-26T17:27:52.000Z\n",
       "3      AFNWS00020241126ekbq001gu  2024-11-26T17:30:15.000Z\n",
       "4      NWMONI0020241126ekbq00tv1  2024-11-26T17:30:14.000Z\n",
       "...                          ...                       ...\n",
       "44663  ASANEW0020241126ekbr000rt  2024-11-26T22:30:17.000Z\n",
       "44664  JALOPNK020241126ekbq000b6  2024-11-26T22:30:18.000Z\n",
       "44665  JALOPNK020241126ekbq000b8  2024-11-26T22:30:18.000Z\n",
       "44666  ASANEW0020241126ekbr000rt  2024-11-26T22:30:17.000Z\n",
       "44667  JALOPNK020241126ekbq000b5  2024-11-26T22:30:18.000Z\n",
       "\n",
       "[44668 rows x 2 columns]"
      ]
     },
     "metadata": {},
     "output_type": "display_data"
    },
    {
     "data": {
      "text/html": [
       "<div>\n",
       "<style scoped>\n",
       "    .dataframe tbody tr th:only-of-type {\n",
       "        vertical-align: middle;\n",
       "    }\n",
       "\n",
       "    .dataframe tbody tr th {\n",
       "        vertical-align: top;\n",
       "    }\n",
       "\n",
       "    .dataframe thead th {\n",
       "        text-align: right;\n",
       "    }\n",
       "</style>\n",
       "<table border=\"1\" class=\"dataframe\">\n",
       "  <thead>\n",
       "    <tr style=\"text-align: right;\">\n",
       "      <th></th>\n",
       "      <th>an</th>\n",
       "      <th>ingestion_datetime</th>\n",
       "    </tr>\n",
       "  </thead>\n",
       "  <tbody>\n",
       "    <tr>\n",
       "      <th>0</th>\n",
       "      <td>PRESSA0020241126ekbq0050l</td>\n",
       "      <td>2024-11-26T13:09:21.000Z</td>\n",
       "    </tr>\n",
       "    <tr>\n",
       "      <th>1</th>\n",
       "      <td>NWMONI0020241126ekbq00tv1</td>\n",
       "      <td>2024-11-26T17:30:14.000Z</td>\n",
       "    </tr>\n",
       "    <tr>\n",
       "      <th>2</th>\n",
       "      <td>AFNWS00020241126ekbq001gt</td>\n",
       "      <td>2024-11-26T17:30:14.000Z</td>\n",
       "    </tr>\n",
       "    <tr>\n",
       "      <th>3</th>\n",
       "      <td>AFNWS00020241126ekbq001gw</td>\n",
       "      <td>2024-11-26T17:30:15.000Z</td>\n",
       "    </tr>\n",
       "    <tr>\n",
       "      <th>4</th>\n",
       "      <td>AFNWS00020241126ekbq001gu</td>\n",
       "      <td>2024-11-26T17:30:15.000Z</td>\n",
       "    </tr>\n",
       "    <tr>\n",
       "      <th>...</th>\n",
       "      <td>...</td>\n",
       "      <td>...</td>\n",
       "    </tr>\n",
       "    <tr>\n",
       "      <th>44656</th>\n",
       "      <td>ASANEW0020241126ekbr000rt</td>\n",
       "      <td>2024-11-26T22:30:17.000Z</td>\n",
       "    </tr>\n",
       "    <tr>\n",
       "      <th>44657</th>\n",
       "      <td>JALOPNK020241126ekbq000b5</td>\n",
       "      <td>2024-11-26T22:30:18.000Z</td>\n",
       "    </tr>\n",
       "    <tr>\n",
       "      <th>44658</th>\n",
       "      <td>JALOPNK020241126ekbq000b7</td>\n",
       "      <td>2024-11-26T22:30:18.000Z</td>\n",
       "    </tr>\n",
       "    <tr>\n",
       "      <th>44659</th>\n",
       "      <td>NMNR000020241126ekbq0008d</td>\n",
       "      <td>2024-11-26T22:30:21.000Z</td>\n",
       "    </tr>\n",
       "    <tr>\n",
       "      <th>44660</th>\n",
       "      <td>NMNR000020241126ekbq0008e</td>\n",
       "      <td>2024-11-26T22:30:21.000Z</td>\n",
       "    </tr>\n",
       "  </tbody>\n",
       "</table>\n",
       "<p>44661 rows × 2 columns</p>\n",
       "</div>"
      ],
      "text/plain": [
       "                              an        ingestion_datetime\n",
       "0      PRESSA0020241126ekbq0050l  2024-11-26T13:09:21.000Z\n",
       "1      NWMONI0020241126ekbq00tv1  2024-11-26T17:30:14.000Z\n",
       "2      AFNWS00020241126ekbq001gt  2024-11-26T17:30:14.000Z\n",
       "3      AFNWS00020241126ekbq001gw  2024-11-26T17:30:15.000Z\n",
       "4      AFNWS00020241126ekbq001gu  2024-11-26T17:30:15.000Z\n",
       "...                          ...                       ...\n",
       "44656  ASANEW0020241126ekbr000rt  2024-11-26T22:30:17.000Z\n",
       "44657  JALOPNK020241126ekbq000b5  2024-11-26T22:30:18.000Z\n",
       "44658  JALOPNK020241126ekbq000b7  2024-11-26T22:30:18.000Z\n",
       "44659  NMNR000020241126ekbq0008d  2024-11-26T22:30:21.000Z\n",
       "44660  NMNR000020241126ekbq0008e  2024-11-26T22:30:21.000Z\n",
       "\n",
       "[44661 rows x 2 columns]"
      ]
     },
     "metadata": {},
     "output_type": "display_data"
    }
   ],
   "source": [
    "ans_log_nodejs = load_log('log_nodejs.log')\n",
    "ans_log_python = load_log('log_python.log')\n",
    "ans_db_nodejs = load_db('test_listener_nodejs.sqlite3')\n",
    "ans_db_python = load_db('test_listener_python.sqlite3')\n",
    "display(ans_log_nodejs)\n",
    "display(ans_log_python)\n",
    "display(ans_db_nodejs)\n",
    "display(ans_db_python)"
   ]
  },
  {
   "cell_type": "code",
   "execution_count": 4,
   "id": "cb873145",
   "metadata": {},
   "outputs": [
    {
     "data": {
      "text/plain": [
       "0     PRNDIS0020241126ekbq005eh\n",
       "8     MTPW000020241126ekbq005pl\n",
       "27    LBA0000020241126ekbq0139x\n",
       "46    MTPW000020241126ekbq005pm\n",
       "51    LBA0000020241126ekbq00wy6\n",
       "67    CNNW000020241126ekbq0058x\n",
       "dtype: object"
      ]
     },
     "execution_count": 4,
     "metadata": {},
     "output_type": "execute_result"
    }
   ],
   "source": [
    "ans_log_nodejs[~ans_log_nodejs.isin(ans_log_python)]"
   ]
  },
  {
   "cell_type": "code",
   "execution_count": 5,
   "id": "c159b913",
   "metadata": {},
   "outputs": [
    {
     "data": {
      "text/plain": [
       "44658    JALOPNK020241126ekbq000b7\n",
       "44659    NMNR000020241126ekbq0008d\n",
       "44660    NMNR000020241126ekbq0008e\n",
       "dtype: object"
      ]
     },
     "execution_count": 5,
     "metadata": {},
     "output_type": "execute_result"
    }
   ],
   "source": [
    "ans_log_python[~ans_log_python.isin(ans_log_nodejs)]"
   ]
  },
  {
   "cell_type": "code",
   "execution_count": 7,
   "id": "5ea1d674",
   "metadata": {},
   "outputs": [
    {
     "data": {
      "text/html": [
       "<div>\n",
       "<style scoped>\n",
       "    .dataframe tbody tr th:only-of-type {\n",
       "        vertical-align: middle;\n",
       "    }\n",
       "\n",
       "    .dataframe tbody tr th {\n",
       "        vertical-align: top;\n",
       "    }\n",
       "\n",
       "    .dataframe thead th {\n",
       "        text-align: right;\n",
       "    }\n",
       "</style>\n",
       "<table border=\"1\" class=\"dataframe\">\n",
       "  <thead>\n",
       "    <tr style=\"text-align: right;\">\n",
       "      <th></th>\n",
       "      <th>an</th>\n",
       "      <th>ingestion_datetime</th>\n",
       "    </tr>\n",
       "  </thead>\n",
       "  <tbody>\n",
       "    <tr>\n",
       "      <th>0</th>\n",
       "      <td>PRNDIS0020241126ekbq005eh</td>\n",
       "      <td>2024-11-26T17:27:52.000Z</td>\n",
       "    </tr>\n",
       "    <tr>\n",
       "      <th>8</th>\n",
       "      <td>MTPW000020241126ekbq005pl</td>\n",
       "      <td>2024-11-26T17:27:40.000Z</td>\n",
       "    </tr>\n",
       "    <tr>\n",
       "      <th>27</th>\n",
       "      <td>LBA0000020241126ekbq0139x</td>\n",
       "      <td>2024-11-26T17:27:46.000Z</td>\n",
       "    </tr>\n",
       "    <tr>\n",
       "      <th>46</th>\n",
       "      <td>MTPW000020241126ekbq005pm</td>\n",
       "      <td>2024-11-26T17:27:40.000Z</td>\n",
       "    </tr>\n",
       "    <tr>\n",
       "      <th>51</th>\n",
       "      <td>LBA0000020241126ekbq00wy6</td>\n",
       "      <td>2024-11-26T14:50:34.000Z</td>\n",
       "    </tr>\n",
       "    <tr>\n",
       "      <th>67</th>\n",
       "      <td>CNNW000020241126ekbq0058x</td>\n",
       "      <td>2024-11-26T17:27:52.000Z</td>\n",
       "    </tr>\n",
       "  </tbody>\n",
       "</table>\n",
       "</div>"
      ],
      "text/plain": [
       "                           an        ingestion_datetime\n",
       "0   PRNDIS0020241126ekbq005eh  2024-11-26T17:27:52.000Z\n",
       "8   MTPW000020241126ekbq005pl  2024-11-26T17:27:40.000Z\n",
       "27  LBA0000020241126ekbq0139x  2024-11-26T17:27:46.000Z\n",
       "46  MTPW000020241126ekbq005pm  2024-11-26T17:27:40.000Z\n",
       "51  LBA0000020241126ekbq00wy6  2024-11-26T14:50:34.000Z\n",
       "67  CNNW000020241126ekbq0058x  2024-11-26T17:27:52.000Z"
      ]
     },
     "execution_count": 7,
     "metadata": {},
     "output_type": "execute_result"
    }
   ],
   "source": [
    "ans_db_nodejs[ans_db_nodejs['an'].isin(_4)]"
   ]
  },
  {
   "cell_type": "code",
   "execution_count": 8,
   "id": "34615691",
   "metadata": {},
   "outputs": [
    {
     "data": {
      "text/html": [
       "<div>\n",
       "<style scoped>\n",
       "    .dataframe tbody tr th:only-of-type {\n",
       "        vertical-align: middle;\n",
       "    }\n",
       "\n",
       "    .dataframe tbody tr th {\n",
       "        vertical-align: top;\n",
       "    }\n",
       "\n",
       "    .dataframe thead th {\n",
       "        text-align: right;\n",
       "    }\n",
       "</style>\n",
       "<table border=\"1\" class=\"dataframe\">\n",
       "  <thead>\n",
       "    <tr style=\"text-align: right;\">\n",
       "      <th></th>\n",
       "      <th>an</th>\n",
       "      <th>ingestion_datetime</th>\n",
       "    </tr>\n",
       "  </thead>\n",
       "  <tbody>\n",
       "    <tr>\n",
       "      <th>44658</th>\n",
       "      <td>JALOPNK020241126ekbq000b7</td>\n",
       "      <td>2024-11-26T22:30:18.000Z</td>\n",
       "    </tr>\n",
       "    <tr>\n",
       "      <th>44659</th>\n",
       "      <td>NMNR000020241126ekbq0008d</td>\n",
       "      <td>2024-11-26T22:30:21.000Z</td>\n",
       "    </tr>\n",
       "    <tr>\n",
       "      <th>44660</th>\n",
       "      <td>NMNR000020241126ekbq0008e</td>\n",
       "      <td>2024-11-26T22:30:21.000Z</td>\n",
       "    </tr>\n",
       "  </tbody>\n",
       "</table>\n",
       "</div>"
      ],
      "text/plain": [
       "                              an        ingestion_datetime\n",
       "44658  JALOPNK020241126ekbq000b7  2024-11-26T22:30:18.000Z\n",
       "44659  NMNR000020241126ekbq0008d  2024-11-26T22:30:21.000Z\n",
       "44660  NMNR000020241126ekbq0008e  2024-11-26T22:30:21.000Z"
      ]
     },
     "execution_count": 8,
     "metadata": {},
     "output_type": "execute_result"
    }
   ],
   "source": [
    "ans_db_python[ans_db_python['an'].isin(_5)]"
   ]
  },
  {
   "cell_type": "code",
   "execution_count": 18,
   "id": "e24abf18",
   "metadata": {},
   "outputs": [
    {
     "data": {
      "text/plain": [
       "0       2024-11-26 17:27:52+00:00\n",
       "1       2024-11-26 17:27:53+00:00\n",
       "2       2024-11-26 17:27:52+00:00\n",
       "3       2024-11-26 17:30:15+00:00\n",
       "4       2024-11-26 17:30:14+00:00\n",
       "                   ...           \n",
       "44663   2024-11-26 22:30:17+00:00\n",
       "44664   2024-11-26 22:30:18+00:00\n",
       "44665   2024-11-26 22:30:18+00:00\n",
       "44666   2024-11-26 22:30:17+00:00\n",
       "44667   2024-11-26 22:30:18+00:00\n",
       "Name: ingestion_datetime, Length: 44668, dtype: datetime64[ns, UTC]"
      ]
     },
     "execution_count": 18,
     "metadata": {},
     "output_type": "execute_result"
    }
   ],
   "source": [
    "pd.to_datetime(ans_db_nodejs['ingestion_datetime'])"
   ]
  }
 ],
 "metadata": {
  "kernelspec": {
   "display_name": "Python 3 (ipykernel)",
   "language": "python",
   "name": "python3"
  },
  "language_info": {
   "codemirror_mode": {
    "name": "ipython",
    "version": 3
   },
   "file_extension": ".py",
   "mimetype": "text/x-python",
   "name": "python",
   "nbconvert_exporter": "python",
   "pygments_lexer": "ipython3",
   "version": "3.11.3"
  }
 },
 "nbformat": 4,
 "nbformat_minor": 5
}
